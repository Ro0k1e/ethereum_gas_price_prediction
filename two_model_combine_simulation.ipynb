{
 "cells": [
  {
   "cell_type": "code",
   "execution_count": 1,
   "metadata": {},
   "outputs": [],
   "source": [
    "import os\n",
    "import re\n",
    "from time import time\n",
    "import numpy as np\n",
    "import pandas as pd\n",
    "from matplotlib import pyplot as plt\n",
    "import seaborn as sns\n",
    "import warnings\n",
    "import calendar\n",
    "from catboost import CatBoostRegressor\n",
    "\n",
    "warnings.filterwarnings('ignore')"
   ]
  },
  {
   "cell_type": "markdown",
   "metadata": {},
   "source": [
    "# Getting the prediction from block level model"
   ]
  },
  {
   "cell_type": "code",
   "execution_count": 14,
   "metadata": {},
   "outputs": [],
   "source": [
    "df = pd.read_csv('df_joined_with_basefee.csv').drop(columns='Unnamed: 0')\n",
    "df['datetime'] = pd.to_datetime(df['datetime'])\n",
    "\n",
    "df['gas_used_block_real'] = df['gas_used_block'].shift(-1)\n",
    "df = df.dropna(subset='gas_used_block_real')\n",
    "df = df[['block_number', 'avg_receipt_gas_used', 'total_value_transactions',\n",
    "       'avg_value_transactions', 'datetime', 'size', 'gas_limit',\n",
    "       'transaction_count', 'gas_used_block', 'Volume', 'Close', 'RSI_adj', 'MACD',\n",
    "       'MACD_exponential_MA_9', 'Ethereum', 'Solana','gas_used_block_real','base_fee_per_gas']]\n",
    "df = df[df['datetime'] >= '2022-04-08 13:00:00']\n",
    "\n",
    "df['total_value_transactions'] = df['total_value_transactions'].apply(lambda x: float(x))"
   ]
  },
  {
   "cell_type": "code",
   "execution_count": 17,
   "metadata": {},
   "outputs": [],
   "source": [
    "for i in range(1,5):\n",
    "    df['gas_used_block_real_pct_' + str(i)] = df['gas_used_block_real'].pct_change(i)\n",
    "    df['transaction_count_pct_' + str(i)] = df['transaction_count'].pct_change(i)\n",
    "    for j in range(3,5):\n",
    "        df['gas_used_block_real_pct_' + str(i) + '_ewm_' + str(j)] = df['gas_used_block_real_pct_' + str(i)].ewm(span=j, adjust=False).mean()\n",
    "        df['transaction_count_pct_' + str(i) + '_ewm_' + str(j)] = df['transaction_count_pct_' + str(i)].ewm(span=j, adjust=False).mean()\n"
   ]
  },
  {
   "cell_type": "code",
   "execution_count": 18,
   "metadata": {},
   "outputs": [],
   "source": [
    "vars_selected = ['gas_used_block_real_pct_1',\n",
    " 'gas_used_block',\n",
    " 'gas_used_block_real_pct_2',\n",
    " 'gas_used_block_real_pct_3',\n",
    " 'gas_used_block_real_pct_4',\n",
    " 'gas_used_block_real_pct_1_ewm_3',\n",
    " 'gas_used_block_real_pct_2_ewm_3',\n",
    " 'gas_used_block_real_pct_4_ewm_3',\n",
    " 'gas_used_block_real_pct_1_ewm_4',\n",
    " 'gas_used_block_real_pct_3_ewm_3',\n",
    " 'gas_used_block_real_pct_4_ewm_4',\n",
    " 'transaction_count_pct_3',\n",
    " 'transaction_count',\n",
    " 'transaction_count_pct_2',\n",
    " 'transaction_count_pct_4_ewm_3',\n",
    " 'transaction_count_pct_1',\n",
    " 'transaction_count_pct_3_ewm_3',\n",
    " 'transaction_count_pct_1_ewm_4',\n",
    " 'Solana',\n",
    " 'avg_receipt_gas_used',\n",
    " 'size',\n",
    " 'gas_used_block_real_pct_2_ewm_4',\n",
    " 'transaction_count_pct_4_ewm_4',\n",
    " 'gas_used_block_real_pct_3_ewm_4',\n",
    " 'transaction_count_pct_4']"
   ]
  },
  {
   "cell_type": "code",
   "execution_count": 19,
   "metadata": {},
   "outputs": [],
   "source": [
    "input_df = df[(df['datetime'] >= '2023-01-01 00:00:00') & (df['datetime'] < '2024-01-01 00:00:00')]\n",
    "input_x = input_df[vars_selected]\n",
    "input_y = input_df['gas_used_block_real']\n",
    "\n",
    "# Preprocess\n",
    "# Winsorization\n",
    "pctil_95 = input_x.quantile(0.95)\n",
    "pctil_10 = input_x.quantile(0.10)\n",
    "\n",
    "input_x = input_x.clip(lower=pctil_10, upper=pctil_95, axis=1)\n",
    "\n",
    "# Normalization and standardize to [-1,1]\n",
    "input_x_mean = input_x.mean()\n",
    "input_x_std = input_x.std()\n",
    "input_x_max = input_x.max()\n",
    "input_x_min = input_x.min()\n",
    "\n",
    "input_x = (input_x - input_x.mean()) / input_x.std()\n",
    "input_x = 2 * (input_x - input_x.min()) / (input_x.max() - input_x.min()) - 1\n",
    "\n",
    "# fill na\n",
    "fillna_mean = input_x.mean()\n",
    "input_x.fillna(input_x.mean(),inplace=True)"
   ]
  },
  {
   "cell_type": "code",
   "execution_count": 20,
   "metadata": {},
   "outputs": [
    {
     "data": {
      "text/plain": [
       "<catboost.core.CatBoostRegressor at 0x7f8dda6d93d0>"
      ]
     },
     "execution_count": 20,
     "metadata": {},
     "output_type": "execute_result"
    }
   ],
   "source": [
    "cbr = CatBoostRegressor(verbose=0, depth=3, iterations=150, learning_rate=0.01, l2_leaf_reg=5, random_seed=42)\n",
    "cbr.fit(input_x, input_y)\n"
   ]
  },
  {
   "cell_type": "code",
   "execution_count": 21,
   "metadata": {},
   "outputs": [],
   "source": [
    "predict_x = df[df['datetime'] >= '2024-01-01 00:00:00'][vars_selected]\n",
    "predict_x = predict_x.clip(lower=pctil_10, upper=pctil_95, axis=1)\n",
    "\n",
    "predict_x = (predict_x - input_x_mean) / input_x_std\n",
    "predict_x = 2 * (predict_x - input_x_min) / (input_x_max - input_x_min) - 1\n",
    "\n",
    "# fill na\n",
    "predict_x.fillna(fillna_mean,inplace=True)\n"
   ]
  },
  {
   "cell_type": "code",
   "execution_count": 22,
   "metadata": {},
   "outputs": [],
   "source": [
    "predicted_gas_used = cbr.predict(predict_x)"
   ]
  },
  {
   "cell_type": "code",
   "execution_count": 51,
   "metadata": {},
   "outputs": [],
   "source": [
    "test_df = df[df['datetime'] >= '2024-01-01 00:00:00']\n",
    "test_df['predicted_gas_used'] = predicted_gas_used\n"
   ]
  },
  {
   "cell_type": "code",
   "execution_count": 52,
   "metadata": {},
   "outputs": [],
   "source": [
    "# In the begining, gas_used_block_real was shifted -1 so that a block can be in the same row of the next block's gas used. With such a setting, inputting i-th and before block data, next block data can be predicted.\n",
    "# Now with the prediction in hand, and try to compute the associated gas price, which has parent block's data in the equation, shift the predicted gas used by i.\n",
    "test_df = test_df.reset_index(drop=True)\n",
    "test_df['predicted_gas_used'] = test_df['predicted_gas_used'].shift(1)\n",
    "test_df = test_df.dropna(subset='predicted_gas_used')\n",
    "\n",
    "test_df['predicted_base_fee'] = 0\n",
    "\n",
    "ElasticityMultiplier = 2 # EIP-1559 The block size has been expanded, the maximum multiple is 2\n",
    "BaseFeeChangeDenominator = 8 # The amount the base fee can change between blocks\n",
    "\n",
    "for i in range(1,len(test_df)):\n",
    "  parent_block = test_df.iloc[i-1, :]\n",
    "  parent_gas_target = parent_block['gas_limit'] // ElasticityMultiplier\n",
    "\n",
    "  if parent_block['predicted_gas_used'] == parent_gas_target:\n",
    "    test_df.loc[i, 'predicted_base_fee'] = parent_block['base_fee_per_gas']\n",
    "\n",
    "  elif parent_block['predicted_gas_used'] > parent_gas_target:\n",
    "    gas_used_delta = parent_block['predicted_gas_used'] - parent_gas_target\n",
    "    x = parent_block['base_fee_per_gas'] * gas_used_delta\n",
    "    y = x // parent_gas_target\n",
    "    base_fee_delta = max(\n",
    "            y // BaseFeeChangeDenominator,\n",
    "            1\n",
    "        )\n",
    "    test_df.loc[i, 'predicted_base_fee'] = parent_block['base_fee_per_gas'] + base_fee_delta\n",
    "  else:\n",
    "    gas_used_delta = parent_gas_target - parent_block['predicted_gas_used']\n",
    "    x = parent_block['base_fee_per_gas'] * gas_used_delta\n",
    "    y = x // parent_gas_target\n",
    "    base_fee_delta = y // BaseFeeChangeDenominator\n",
    "    test_df.loc[i, 'predicted_base_fee'] = max(parent_block['base_fee_per_gas'] - base_fee_delta, 0)"
   ]
  },
  {
   "cell_type": "code",
   "execution_count": 53,
   "metadata": {},
   "outputs": [],
   "source": [
    "block_level = test_df[['datetime', 'predicted_base_fee','base_fee_per_gas']]"
   ]
  },
  {
   "cell_type": "code",
   "execution_count": 55,
   "metadata": {},
   "outputs": [],
   "source": [
    "block_level['diff'] = block_level['base_fee_per_gas'] - block_level['predicted_base_fee']"
   ]
  },
  {
   "cell_type": "code",
   "execution_count": 58,
   "metadata": {},
   "outputs": [],
   "source": [
    "block_level = block_level.iloc[:-1,:]"
   ]
  },
  {
   "cell_type": "markdown",
   "metadata": {},
   "source": [
    "# Combining the output from minute level model"
   ]
  },
  {
   "cell_type": "code",
   "execution_count": 27,
   "metadata": {},
   "outputs": [],
   "source": [
    "df_min = pd.read_csv('df_min.csv').drop(columns='Unnamed: 0')\n",
    "df_min['datetime'] = pd.to_datetime(df_min['datetime'])"
   ]
  },
  {
   "cell_type": "code",
   "execution_count": 30,
   "metadata": {},
   "outputs": [],
   "source": [
    "for i in range(7,10):\n",
    "    df_min['base_fee_real_pct_' + str(i)] = df_min['base_fee_real'].pct_change(i)\n",
    "    df_min['transaction_count_avg_pct_' + str(i)] = df_min['transaction_count_avg'].pct_change(i)\n",
    "    for j in range(3,7):\n",
    "        df_min['base_fee_real_pct_' + str(i) + '_ewm_' + str(j)] = df_min['base_fee_real_pct_' + str(i)].ewm(span=j, adjust=False).mean()\n",
    "        df_min['transaction_count_avg_pct_' + str(i) + '_ewm_' + str(j)] = df_min['transaction_count_avg_pct_' + str(i)].ewm(span=j, adjust=False).mean()\n",
    "\n",
    "for col in ['total_value_transactions_sum', 'size_sum', 'gas_limit_sum',\n",
    "       'transaction_count_sum', 'gas_used_block_sum', 'block_cnt',\n",
    "       'total_value_transactions_avg', 'size_avg', 'gas_limit_avg',\n",
    "       'transaction_count_avg', 'gas_used_block_avg']:\n",
    "   for i in range(1,3):\n",
    "      df_min[col + '_pct_' + str(i)] = df_min[col].pct_change(i)\n",
    "      df_min[col + '_lag_' + str(i)] = df_min[col].shift(i)"
   ]
  },
  {
   "cell_type": "code",
   "execution_count": 31,
   "metadata": {},
   "outputs": [],
   "source": [
    "min_vars = ['Solana',\n",
    " 'MACD_exponential_MA_9',\n",
    " 'MACD',\n",
    " 'Close',\n",
    " 'Ethereum',\n",
    " 'transaction_count_avg',\n",
    " 'transaction_count_avg_lag_1',\n",
    " 'transaction_count_avg_lag_2',\n",
    " 'RSI_adj',\n",
    " 'base_fee_real_pct_9_ewm_6',\n",
    " 'Volume',\n",
    " 'transaction_count_avg_pct_9_ewm_6',\n",
    " 'transaction_count_sum_lag_1',\n",
    " 'total_value_transactions_avg',\n",
    " 'size_sum_lag_1',\n",
    " 'size_avg',\n",
    " 'size_sum',\n",
    " 'gas_used_block_avg',\n",
    " 'total_value_transactions_avg_lag_1',\n",
    " 'size_avg_lag_2',\n",
    " 'transaction_count_sum',\n",
    " 'base_fee_real_pct_7',\n",
    " 'size_sum_lag_2',\n",
    " 'gas_used_block_avg_lag_2',\n",
    " 'total_value_transactions_avg_lag_2']"
   ]
  },
  {
   "cell_type": "code",
   "execution_count": 33,
   "metadata": {},
   "outputs": [],
   "source": [
    "df_min_all = df_min[(df_min['datetime'] >= '2023-01-01 00:00:00') & (df_min['datetime'] < '2024-01-01 00:00:00')]\n",
    "min_x = df_min_all[min_vars]\n",
    "min_y = df_min_all['base_fee_real']\n",
    "\n",
    "# Preprocess\n",
    "# Winsorization\n",
    "pctil_95 = min_x.quantile(0.95)\n",
    "pctil_10 = min_x.quantile(0.10)\n",
    "\n",
    "min_x = min_x.clip(lower=pctil_10, upper=pctil_95, axis=1)\n",
    "\n",
    "# Normalization and standardize to [-1,1]\n",
    "input_x_mean = min_x.mean()\n",
    "input_x_std = min_x.std()\n",
    "input_x_max = min_x.max()\n",
    "input_x_min = min_x.min()\n",
    "\n",
    "min_x = (min_x - min_x.mean()) / min_x.std()\n",
    "min_x = 2 * (min_x - min_x.min()) / (min_x.max() - min_x.min()) - 1\n",
    "\n",
    "# fill na\n",
    "fillna_mean = min_x.mean()\n",
    "min_x.fillna(min_x.mean(),inplace=True)"
   ]
  },
  {
   "cell_type": "code",
   "execution_count": 34,
   "metadata": {},
   "outputs": [
    {
     "data": {
      "text/plain": [
       "<catboost.core.CatBoostRegressor at 0x7f8e3ab32430>"
      ]
     },
     "execution_count": 34,
     "metadata": {},
     "output_type": "execute_result"
    }
   ],
   "source": [
    "cbr = CatBoostRegressor(verbose=0, depth=5, iterations=350, learning_rate=0.01, l2_leaf_reg=5, random_seed=42)\n",
    "cbr.fit(min_x, min_y)"
   ]
  },
  {
   "cell_type": "code",
   "execution_count": 36,
   "metadata": {},
   "outputs": [],
   "source": [
    "predict_min_x = df_min[df_min['datetime'] >= '2024-01-01 00:00:00'][min_vars]\n",
    "predict_min_x = predict_min_x.clip(lower=pctil_10, upper=pctil_95, axis=1)\n",
    "\n",
    "predict_min_x = (predict_min_x - input_x_mean) / input_x_std\n",
    "predict_min_x = 2 * (predict_min_x - input_x_min) / (input_x_max - input_x_min) - 1\n",
    "\n",
    "# fill na\n",
    "predict_min_x.fillna(fillna_mean,inplace=True)\n"
   ]
  },
  {
   "cell_type": "code",
   "execution_count": 37,
   "metadata": {},
   "outputs": [],
   "source": [
    "predicted_base_fee = cbr.predict(predict_min_x)"
   ]
  },
  {
   "cell_type": "code",
   "execution_count": 41,
   "metadata": {},
   "outputs": [],
   "source": [
    "test_min_df = df_min[df_min['datetime'] >= '2024-01-01 00:00:00']\n",
    "test_min_df['predicted_base_fee'] = predicted_base_fee\n"
   ]
  },
  {
   "cell_type": "code",
   "execution_count": 62,
   "metadata": {},
   "outputs": [],
   "source": [
    "min_level = test_min_df[['datetime', 'predicted_base_fee']]"
   ]
  },
  {
   "cell_type": "markdown",
   "metadata": {},
   "source": [
    "# Join the two results"
   ]
  },
  {
   "cell_type": "code",
   "execution_count": 60,
   "metadata": {},
   "outputs": [
    {
     "data": {
      "text/html": [
       "<div>\n",
       "<style scoped>\n",
       "    .dataframe tbody tr th:only-of-type {\n",
       "        vertical-align: middle;\n",
       "    }\n",
       "\n",
       "    .dataframe tbody tr th {\n",
       "        vertical-align: top;\n",
       "    }\n",
       "\n",
       "    .dataframe thead th {\n",
       "        text-align: right;\n",
       "    }\n",
       "</style>\n",
       "<table border=\"1\" class=\"dataframe\">\n",
       "  <thead>\n",
       "    <tr style=\"text-align: right;\">\n",
       "      <th></th>\n",
       "      <th>datetime</th>\n",
       "      <th>predicted_base_fee</th>\n",
       "      <th>base_fee_per_gas</th>\n",
       "      <th>diff</th>\n",
       "    </tr>\n",
       "  </thead>\n",
       "  <tbody>\n",
       "    <tr>\n",
       "      <th>1</th>\n",
       "      <td>2024-01-01 00:00:00</td>\n",
       "      <td>12956097077</td>\n",
       "      <td>1.238341e+10</td>\n",
       "      <td>-572690075.0</td>\n",
       "    </tr>\n",
       "    <tr>\n",
       "      <th>2</th>\n",
       "      <td>2024-01-01 00:00:00</td>\n",
       "      <td>12584369567</td>\n",
       "      <td>1.307809e+10</td>\n",
       "      <td>493724380.0</td>\n",
       "    </tr>\n",
       "    <tr>\n",
       "      <th>3</th>\n",
       "      <td>2024-01-01 00:00:00</td>\n",
       "      <td>12214297840</td>\n",
       "      <td>1.250051e+10</td>\n",
       "      <td>286216583.0</td>\n",
       "    </tr>\n",
       "    <tr>\n",
       "      <th>4</th>\n",
       "      <td>2024-01-01 00:00:00</td>\n",
       "      <td>12181507802</td>\n",
       "      <td>1.220578e+10</td>\n",
       "      <td>24275118.0</td>\n",
       "    </tr>\n",
       "    <tr>\n",
       "      <th>5</th>\n",
       "      <td>2024-01-01 00:01:00</td>\n",
       "      <td>12336845032</td>\n",
       "      <td>1.217861e+10</td>\n",
       "      <td>-158236355.0</td>\n",
       "    </tr>\n",
       "    <tr>\n",
       "      <th>...</th>\n",
       "      <td>...</td>\n",
       "      <td>...</td>\n",
       "      <td>...</td>\n",
       "      <td>...</td>\n",
       "    </tr>\n",
       "    <tr>\n",
       "      <th>220987</th>\n",
       "      <td>2024-01-31 23:58:00</td>\n",
       "      <td>23043050045</td>\n",
       "      <td>2.227433e+10</td>\n",
       "      <td>-768724089.0</td>\n",
       "    </tr>\n",
       "    <tr>\n",
       "      <th>220988</th>\n",
       "      <td>2024-01-31 23:58:00</td>\n",
       "      <td>23446269186</td>\n",
       "      <td>2.418898e+10</td>\n",
       "      <td>742712352.0</td>\n",
       "    </tr>\n",
       "    <tr>\n",
       "      <th>220989</th>\n",
       "      <td>2024-01-31 23:59:00</td>\n",
       "      <td>22544972870</td>\n",
       "      <td>2.229720e+10</td>\n",
       "      <td>-247775697.0</td>\n",
       "    </tr>\n",
       "    <tr>\n",
       "      <th>220990</th>\n",
       "      <td>2024-01-31 23:59:00</td>\n",
       "      <td>21230987057</td>\n",
       "      <td>2.161776e+10</td>\n",
       "      <td>386773083.0</td>\n",
       "    </tr>\n",
       "    <tr>\n",
       "      <th>220991</th>\n",
       "      <td>2024-01-31 23:59:00</td>\n",
       "      <td>20862238294</td>\n",
       "      <td>2.052081e+10</td>\n",
       "      <td>-341423472.0</td>\n",
       "    </tr>\n",
       "  </tbody>\n",
       "</table>\n",
       "<p>220991 rows × 4 columns</p>\n",
       "</div>"
      ],
      "text/plain": [
       "                  datetime  predicted_base_fee  base_fee_per_gas         diff\n",
       "1      2024-01-01 00:00:00         12956097077      1.238341e+10 -572690075.0\n",
       "2      2024-01-01 00:00:00         12584369567      1.307809e+10  493724380.0\n",
       "3      2024-01-01 00:00:00         12214297840      1.250051e+10  286216583.0\n",
       "4      2024-01-01 00:00:00         12181507802      1.220578e+10   24275118.0\n",
       "5      2024-01-01 00:01:00         12336845032      1.217861e+10 -158236355.0\n",
       "...                    ...                 ...               ...          ...\n",
       "220987 2024-01-31 23:58:00         23043050045      2.227433e+10 -768724089.0\n",
       "220988 2024-01-31 23:58:00         23446269186      2.418898e+10  742712352.0\n",
       "220989 2024-01-31 23:59:00         22544972870      2.229720e+10 -247775697.0\n",
       "220990 2024-01-31 23:59:00         21230987057      2.161776e+10  386773083.0\n",
       "220991 2024-01-31 23:59:00         20862238294      2.052081e+10 -341423472.0\n",
       "\n",
       "[220991 rows x 4 columns]"
      ]
     },
     "execution_count": 60,
     "metadata": {},
     "output_type": "execute_result"
    }
   ],
   "source": [
    "block_level"
   ]
  },
  {
   "cell_type": "code",
   "execution_count": 63,
   "metadata": {},
   "outputs": [
    {
     "data": {
      "text/html": [
       "<div>\n",
       "<style scoped>\n",
       "    .dataframe tbody tr th:only-of-type {\n",
       "        vertical-align: middle;\n",
       "    }\n",
       "\n",
       "    .dataframe tbody tr th {\n",
       "        vertical-align: top;\n",
       "    }\n",
       "\n",
       "    .dataframe thead th {\n",
       "        text-align: right;\n",
       "    }\n",
       "</style>\n",
       "<table border=\"1\" class=\"dataframe\">\n",
       "  <thead>\n",
       "    <tr style=\"text-align: right;\">\n",
       "      <th></th>\n",
       "      <th>datetime</th>\n",
       "      <th>predicted_base_fee</th>\n",
       "    </tr>\n",
       "  </thead>\n",
       "  <tbody>\n",
       "    <tr>\n",
       "      <th>908235</th>\n",
       "      <td>2024-01-01 00:00:00</td>\n",
       "      <td>1.713160e+10</td>\n",
       "    </tr>\n",
       "    <tr>\n",
       "      <th>908236</th>\n",
       "      <td>2024-01-01 00:01:00</td>\n",
       "      <td>2.160337e+10</td>\n",
       "    </tr>\n",
       "    <tr>\n",
       "      <th>908237</th>\n",
       "      <td>2024-01-01 00:02:00</td>\n",
       "      <td>2.274513e+10</td>\n",
       "    </tr>\n",
       "    <tr>\n",
       "      <th>908238</th>\n",
       "      <td>2024-01-01 00:03:00</td>\n",
       "      <td>2.274513e+10</td>\n",
       "    </tr>\n",
       "    <tr>\n",
       "      <th>908239</th>\n",
       "      <td>2024-01-01 00:04:00</td>\n",
       "      <td>2.274513e+10</td>\n",
       "    </tr>\n",
       "    <tr>\n",
       "      <th>...</th>\n",
       "      <td>...</td>\n",
       "      <td>...</td>\n",
       "    </tr>\n",
       "    <tr>\n",
       "      <th>952869</th>\n",
       "      <td>2024-01-31 23:54:00</td>\n",
       "      <td>1.335887e+10</td>\n",
       "    </tr>\n",
       "    <tr>\n",
       "      <th>952870</th>\n",
       "      <td>2024-01-31 23:55:00</td>\n",
       "      <td>1.335887e+10</td>\n",
       "    </tr>\n",
       "    <tr>\n",
       "      <th>952871</th>\n",
       "      <td>2024-01-31 23:56:00</td>\n",
       "      <td>1.335887e+10</td>\n",
       "    </tr>\n",
       "    <tr>\n",
       "      <th>952872</th>\n",
       "      <td>2024-01-31 23:57:00</td>\n",
       "      <td>1.335887e+10</td>\n",
       "    </tr>\n",
       "    <tr>\n",
       "      <th>952873</th>\n",
       "      <td>2024-01-31 23:58:00</td>\n",
       "      <td>1.335887e+10</td>\n",
       "    </tr>\n",
       "  </tbody>\n",
       "</table>\n",
       "<p>44639 rows × 2 columns</p>\n",
       "</div>"
      ],
      "text/plain": [
       "                  datetime  predicted_base_fee\n",
       "908235 2024-01-01 00:00:00        1.713160e+10\n",
       "908236 2024-01-01 00:01:00        2.160337e+10\n",
       "908237 2024-01-01 00:02:00        2.274513e+10\n",
       "908238 2024-01-01 00:03:00        2.274513e+10\n",
       "908239 2024-01-01 00:04:00        2.274513e+10\n",
       "...                    ...                 ...\n",
       "952869 2024-01-31 23:54:00        1.335887e+10\n",
       "952870 2024-01-31 23:55:00        1.335887e+10\n",
       "952871 2024-01-31 23:56:00        1.335887e+10\n",
       "952872 2024-01-31 23:57:00        1.335887e+10\n",
       "952873 2024-01-31 23:58:00        1.335887e+10\n",
       "\n",
       "[44639 rows x 2 columns]"
      ]
     },
     "execution_count": 63,
     "metadata": {},
     "output_type": "execute_result"
    }
   ],
   "source": [
    "min_level"
   ]
  },
  {
   "cell_type": "code",
   "execution_count": 73,
   "metadata": {},
   "outputs": [],
   "source": [
    "merged = pd.merge(block_level, min_level, on=['datetime'], how='left').rename(columns={'predicted_base_fee_x':'predicted_base_fee','predicted_base_fee_y':'predicted_avg_base_fee'}).drop(columns=['diff']).dropna()"
   ]
  },
  {
   "cell_type": "code",
   "execution_count": 74,
   "metadata": {},
   "outputs": [
    {
     "data": {
      "text/html": [
       "<div>\n",
       "<style scoped>\n",
       "    .dataframe tbody tr th:only-of-type {\n",
       "        vertical-align: middle;\n",
       "    }\n",
       "\n",
       "    .dataframe tbody tr th {\n",
       "        vertical-align: top;\n",
       "    }\n",
       "\n",
       "    .dataframe thead th {\n",
       "        text-align: right;\n",
       "    }\n",
       "</style>\n",
       "<table border=\"1\" class=\"dataframe\">\n",
       "  <thead>\n",
       "    <tr style=\"text-align: right;\">\n",
       "      <th></th>\n",
       "      <th>datetime</th>\n",
       "      <th>predicted_base_fee</th>\n",
       "      <th>base_fee_per_gas</th>\n",
       "      <th>predicted_avg_base_fee</th>\n",
       "    </tr>\n",
       "  </thead>\n",
       "  <tbody>\n",
       "    <tr>\n",
       "      <th>0</th>\n",
       "      <td>2024-01-01 00:00:00</td>\n",
       "      <td>12956097077</td>\n",
       "      <td>1.238341e+10</td>\n",
       "      <td>1.713160e+10</td>\n",
       "    </tr>\n",
       "    <tr>\n",
       "      <th>1</th>\n",
       "      <td>2024-01-01 00:00:00</td>\n",
       "      <td>12584369567</td>\n",
       "      <td>1.307809e+10</td>\n",
       "      <td>1.713160e+10</td>\n",
       "    </tr>\n",
       "    <tr>\n",
       "      <th>2</th>\n",
       "      <td>2024-01-01 00:00:00</td>\n",
       "      <td>12214297840</td>\n",
       "      <td>1.250051e+10</td>\n",
       "      <td>1.713160e+10</td>\n",
       "    </tr>\n",
       "    <tr>\n",
       "      <th>3</th>\n",
       "      <td>2024-01-01 00:00:00</td>\n",
       "      <td>12181507802</td>\n",
       "      <td>1.220578e+10</td>\n",
       "      <td>1.713160e+10</td>\n",
       "    </tr>\n",
       "    <tr>\n",
       "      <th>4</th>\n",
       "      <td>2024-01-01 00:01:00</td>\n",
       "      <td>12336845032</td>\n",
       "      <td>1.217861e+10</td>\n",
       "      <td>2.160337e+10</td>\n",
       "    </tr>\n",
       "    <tr>\n",
       "      <th>...</th>\n",
       "      <td>...</td>\n",
       "      <td>...</td>\n",
       "      <td>...</td>\n",
       "      <td>...</td>\n",
       "    </tr>\n",
       "    <tr>\n",
       "      <th>220983</th>\n",
       "      <td>2024-01-31 23:58:00</td>\n",
       "      <td>22669687347</td>\n",
       "      <td>2.355909e+10</td>\n",
       "      <td>1.335887e+10</td>\n",
       "    </tr>\n",
       "    <tr>\n",
       "      <th>220984</th>\n",
       "      <td>2024-01-31 23:58:00</td>\n",
       "      <td>21578995604</td>\n",
       "      <td>2.242561e+10</td>\n",
       "      <td>1.335887e+10</td>\n",
       "    </tr>\n",
       "    <tr>\n",
       "      <th>220985</th>\n",
       "      <td>2024-01-31 23:58:00</td>\n",
       "      <td>22120983479</td>\n",
       "      <td>2.069684e+10</td>\n",
       "      <td>1.335887e+10</td>\n",
       "    </tr>\n",
       "    <tr>\n",
       "      <th>220986</th>\n",
       "      <td>2024-01-31 23:58:00</td>\n",
       "      <td>23043050045</td>\n",
       "      <td>2.227433e+10</td>\n",
       "      <td>1.335887e+10</td>\n",
       "    </tr>\n",
       "    <tr>\n",
       "      <th>220987</th>\n",
       "      <td>2024-01-31 23:58:00</td>\n",
       "      <td>23446269186</td>\n",
       "      <td>2.418898e+10</td>\n",
       "      <td>1.335887e+10</td>\n",
       "    </tr>\n",
       "  </tbody>\n",
       "</table>\n",
       "<p>220988 rows × 4 columns</p>\n",
       "</div>"
      ],
      "text/plain": [
       "                  datetime  predicted_base_fee  base_fee_per_gas  \\\n",
       "0      2024-01-01 00:00:00         12956097077      1.238341e+10   \n",
       "1      2024-01-01 00:00:00         12584369567      1.307809e+10   \n",
       "2      2024-01-01 00:00:00         12214297840      1.250051e+10   \n",
       "3      2024-01-01 00:00:00         12181507802      1.220578e+10   \n",
       "4      2024-01-01 00:01:00         12336845032      1.217861e+10   \n",
       "...                    ...                 ...               ...   \n",
       "220983 2024-01-31 23:58:00         22669687347      2.355909e+10   \n",
       "220984 2024-01-31 23:58:00         21578995604      2.242561e+10   \n",
       "220985 2024-01-31 23:58:00         22120983479      2.069684e+10   \n",
       "220986 2024-01-31 23:58:00         23043050045      2.227433e+10   \n",
       "220987 2024-01-31 23:58:00         23446269186      2.418898e+10   \n",
       "\n",
       "        predicted_avg_base_fee  \n",
       "0                 1.713160e+10  \n",
       "1                 1.713160e+10  \n",
       "2                 1.713160e+10  \n",
       "3                 1.713160e+10  \n",
       "4                 2.160337e+10  \n",
       "...                        ...  \n",
       "220983            1.335887e+10  \n",
       "220984            1.335887e+10  \n",
       "220985            1.335887e+10  \n",
       "220986            1.335887e+10  \n",
       "220987            1.335887e+10  \n",
       "\n",
       "[220988 rows x 4 columns]"
      ]
     },
     "execution_count": 74,
     "metadata": {},
     "output_type": "execute_result"
    }
   ],
   "source": [
    "merged"
   ]
  },
  {
   "cell_type": "markdown",
   "metadata": {},
   "source": [
    "# Simulation"
   ]
  },
  {
   "cell_type": "code",
   "execution_count": 109,
   "metadata": {},
   "outputs": [
    {
     "data": {
      "text/plain": [
       "12205782920.0"
      ]
     },
     "execution_count": 109,
     "metadata": {},
     "output_type": "execute_result"
    }
   ],
   "source": [
    "t = merged['datetime'].unique()[0]\n",
    "cur_df = merged[merged['datetime'] == t]\n",
    "cur_predicted_avg = cur_df['predicted_avg_base_fee'].unique()[0]\n",
    "\n",
    "stg_choice_df = cur_df[cur_df['predicted_base_fee'] <= cur_predicted_avg].reset_index(drop=True)\n",
    "# stg_choice_df.loc[0,'base_fee_per_gas']\n",
    "# stg_choice_df.loc[-1,'base_fee_per_gas']\n",
    "random.choice(np.array(cur_df['base_fee_per_gas']))"
   ]
  },
  {
   "cell_type": "code",
   "execution_count": 110,
   "metadata": {},
   "outputs": [],
   "source": [
    "# assume every minute has to happen a transaction\n",
    "import random\n",
    "\n",
    "\n",
    "normal = []\n",
    "strategy = []\n",
    "\n",
    "for t in merged['datetime'].unique():\n",
    "    cur_df = merged[merged['datetime'] == t]\n",
    "    normal.append(random.choice(np.array(cur_df['base_fee_per_gas'])))\n",
    "\n",
    "    cur_predicted_avg = cur_df['predicted_avg_base_fee'].unique()[0]\n",
    "    stg_choice_df = cur_df[cur_df['predicted_base_fee'] <= cur_predicted_avg].reset_index(drop=True)\n",
    "    if len(stg_choice_df) > 0:\n",
    "        strategy.append(stg_choice_df.loc[0,'base_fee_per_gas'])\n",
    "    else:\n",
    "        strategy.append(cur_df.iloc[-1,2])\n",
    "    \n"
   ]
  },
  {
   "cell_type": "code",
   "execution_count": 111,
   "metadata": {},
   "outputs": [
    {
     "data": {
      "text/plain": [
       "4794335809046.0"
      ]
     },
     "execution_count": 111,
     "metadata": {},
     "output_type": "execute_result"
    }
   ],
   "source": [
    "sum(normal) - sum(strategy)"
   ]
  },
  {
   "cell_type": "code",
   "execution_count": 114,
   "metadata": {},
   "outputs": [
    {
     "name": "stdout",
     "output_type": "stream",
     "text": [
      "----- working on i = 0 ----- \n",
      "----- working on i = 1 ----- \n",
      "----- working on i = 2 ----- \n",
      "----- working on i = 3 ----- \n",
      "----- working on i = 4 ----- \n",
      "----- working on i = 5 ----- \n",
      "----- working on i = 6 ----- \n",
      "----- working on i = 7 ----- \n",
      "----- working on i = 8 ----- \n",
      "----- working on i = 9 ----- \n",
      "----- working on i = 10 ----- \n",
      "----- working on i = 11 ----- \n",
      "----- working on i = 12 ----- \n",
      "----- working on i = 13 ----- \n",
      "----- working on i = 14 ----- \n",
      "----- working on i = 15 ----- \n",
      "----- working on i = 16 ----- \n",
      "----- working on i = 17 ----- \n",
      "----- working on i = 18 ----- \n",
      "----- working on i = 19 ----- \n",
      "----- working on i = 20 ----- \n",
      "----- working on i = 21 ----- \n",
      "----- working on i = 22 ----- \n",
      "----- working on i = 23 ----- \n",
      "----- working on i = 24 ----- \n",
      "----- working on i = 25 ----- \n",
      "----- working on i = 26 ----- \n",
      "----- working on i = 27 ----- \n",
      "----- working on i = 28 ----- \n",
      "----- working on i = 29 ----- \n",
      "----- working on i = 30 ----- \n",
      "----- working on i = 31 ----- \n",
      "----- working on i = 32 ----- \n",
      "----- working on i = 33 ----- \n",
      "----- working on i = 34 ----- \n",
      "----- working on i = 35 ----- \n",
      "----- working on i = 36 ----- \n",
      "----- working on i = 37 ----- \n",
      "----- working on i = 38 ----- \n",
      "----- working on i = 39 ----- \n",
      "----- working on i = 40 ----- \n",
      "----- working on i = 41 ----- \n",
      "----- working on i = 42 ----- \n",
      "----- working on i = 43 ----- \n",
      "----- working on i = 44 ----- \n",
      "----- working on i = 45 ----- \n",
      "----- working on i = 46 ----- \n",
      "----- working on i = 47 ----- \n",
      "----- working on i = 48 ----- \n",
      "----- working on i = 49 ----- \n",
      "----- working on i = 50 ----- \n",
      "----- working on i = 51 ----- \n",
      "----- working on i = 52 ----- \n",
      "----- working on i = 53 ----- \n",
      "----- working on i = 54 ----- \n",
      "----- working on i = 55 ----- \n",
      "----- working on i = 56 ----- \n",
      "----- working on i = 57 ----- \n",
      "----- working on i = 58 ----- \n",
      "----- working on i = 59 ----- \n",
      "----- working on i = 60 ----- \n",
      "----- working on i = 61 ----- \n",
      "----- working on i = 62 ----- \n",
      "----- working on i = 63 ----- \n",
      "----- working on i = 64 ----- \n",
      "----- working on i = 65 ----- \n",
      "----- working on i = 66 ----- \n",
      "----- working on i = 67 ----- \n",
      "----- working on i = 68 ----- \n",
      "----- working on i = 69 ----- \n",
      "----- working on i = 70 ----- \n",
      "----- working on i = 71 ----- \n",
      "----- working on i = 72 ----- \n",
      "----- working on i = 73 ----- \n",
      "----- working on i = 74 ----- \n",
      "----- working on i = 75 ----- \n",
      "----- working on i = 76 ----- \n",
      "----- working on i = 77 ----- \n",
      "----- working on i = 78 ----- \n",
      "----- working on i = 79 ----- \n",
      "----- working on i = 80 ----- \n",
      "----- working on i = 81 ----- \n",
      "----- working on i = 82 ----- \n",
      "----- working on i = 83 ----- \n",
      "----- working on i = 84 ----- \n",
      "----- working on i = 85 ----- \n",
      "----- working on i = 86 ----- \n",
      "----- working on i = 87 ----- \n",
      "----- working on i = 88 ----- \n",
      "----- working on i = 89 ----- \n",
      "----- working on i = 90 ----- \n",
      "----- working on i = 91 ----- \n",
      "----- working on i = 92 ----- \n",
      "----- working on i = 93 ----- \n",
      "----- working on i = 94 ----- \n",
      "----- working on i = 95 ----- \n",
      "----- working on i = 96 ----- \n",
      "----- working on i = 97 ----- \n",
      "----- working on i = 98 ----- \n",
      "----- working on i = 99 ----- \n"
     ]
    }
   ],
   "source": [
    "# assume every minute has to happen a transaction\n",
    "import random\n",
    "\n",
    "strategy = []\n",
    "for t in merged['datetime'].unique():\n",
    "    cur_df = merged[merged['datetime'] == t]\n",
    "\n",
    "    cur_predicted_avg = cur_df['predicted_avg_base_fee'].unique()[0]\n",
    "    stg_choice_df = cur_df[cur_df['predicted_base_fee'] <= cur_predicted_avg].reset_index(drop=True)\n",
    "    if len(stg_choice_df) > 0:\n",
    "        strategy.append(stg_choice_df.loc[0,'base_fee_per_gas'])\n",
    "    else:\n",
    "        strategy.append(cur_df.iloc[-1,2])\n",
    "\n",
    "sim = []\n",
    "for i in range(100):\n",
    "    print('----- working on i = %d ----- '%i)\n",
    "    normal = []\n",
    "\n",
    "    for t in merged['datetime'].unique():\n",
    "        cur_df = merged[merged['datetime'] == t]\n",
    "        normal.append(random.choice(np.array(cur_df['base_fee_per_gas'])))\n",
    "\n",
    "    sim.append(normal)\n"
   ]
  },
  {
   "cell_type": "code",
   "execution_count": 117,
   "metadata": {},
   "outputs": [],
   "source": [
    "diff = []\n",
    "for i in [sum(i) for i in sim]:\n",
    "    diff.append(i-sum(strategy))"
   ]
  },
  {
   "cell_type": "code",
   "execution_count": 124,
   "metadata": {},
   "outputs": [
    {
     "data": {
      "text/plain": [
       "4737.03042287921"
      ]
     },
     "execution_count": 124,
     "metadata": {},
     "output_type": "execute_result"
    }
   ],
   "source": [
    "np.mean([i/1000000000 for i in diff])"
   ]
  },
  {
   "cell_type": "code",
   "execution_count": 125,
   "metadata": {},
   "outputs": [
    {
     "data": {
      "text/plain": [
       "276.33958674202654"
      ]
     },
     "execution_count": 125,
     "metadata": {},
     "output_type": "execute_result"
    }
   ],
   "source": [
    "np.mean([i/1000000000 * 0.058336037997 for i in diff])"
   ]
  },
  {
   "cell_type": "code",
   "execution_count": null,
   "metadata": {},
   "outputs": [],
   "source": [
    "0.058336037997"
   ]
  }
 ],
 "metadata": {
  "kernelspec": {
   "display_name": "base",
   "language": "python",
   "name": "python3"
  },
  "language_info": {
   "codemirror_mode": {
    "name": "ipython",
    "version": 3
   },
   "file_extension": ".py",
   "mimetype": "text/x-python",
   "name": "python",
   "nbconvert_exporter": "python",
   "pygments_lexer": "ipython3",
   "version": "3.9.12"
  }
 },
 "nbformat": 4,
 "nbformat_minor": 2
}
